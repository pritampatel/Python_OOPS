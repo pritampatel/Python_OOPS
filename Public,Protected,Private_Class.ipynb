{
  "nbformat": 4,
  "nbformat_minor": 0,
  "metadata": {
    "colab": {
      "name": "Public,Protected,Private_Class.ipynb",
      "provenance": []
    },
    "kernelspec": {
      "name": "python3",
      "display_name": "Python 3"
    }
  },
  "cells": [
    {
      "cell_type": "code",
      "metadata": {
        "id": "-MZhAKY8bLV1"
      },
      "source": [
        "class Car:\n",
        "  def __init__(self,doors,engine_type):\n",
        "    self.doors=doors\n",
        "    self.engine_type=engine_type"
      ],
      "execution_count": null,
      "outputs": []
    },
    {
      "cell_type": "code",
      "metadata": {
        "colab": {
          "base_uri": "https://localhost:8080/",
          "height": 35
        },
        "id": "ySXG7TiCXQjE",
        "outputId": "dfe5d6f4-d795-45d0-a4ca-ee69a9e9bad6"
      },
      "source": [
        "my_car=Car(2,'diesel')\n",
        "my_car.engine_type"
      ],
      "execution_count": null,
      "outputs": [
        {
          "output_type": "execute_result",
          "data": {
            "application/vnd.google.colaboratory.intrinsic+json": {
              "type": "string"
            },
            "text/plain": [
              "'diesel'"
            ]
          },
          "metadata": {
            "tags": []
          },
          "execution_count": 2
        }
      ]
    },
    {
      "cell_type": "code",
      "metadata": {
        "colab": {
          "base_uri": "https://localhost:8080/"
        },
        "id": "c5adAqM3XQfT",
        "outputId": "54b58a84-5cc5-4f5d-884c-53f2a8d629e7"
      },
      "source": [
        "my_car.engine_type='petrol'\n",
        "print(my_car.engine_type)"
      ],
      "execution_count": null,
      "outputs": [
        {
          "output_type": "stream",
          "text": [
            "petrol\n"
          ],
          "name": "stdout"
        }
      ]
    },
    {
      "cell_type": "code",
      "metadata": {
        "id": "fUdB6FdqXQZ0"
      },
      "source": [
        "#"
      ],
      "execution_count": null,
      "outputs": []
    },
    {
      "cell_type": "markdown",
      "metadata": {
        "id": "BUmxRtCxYBRs"
      },
      "source": [
        "\n",
        "\n",
        "```\n",
        "# This is formatted as code\n",
        "```\n",
        "\n",
        "# Protected Class"
      ]
    },
    {
      "cell_type": "code",
      "metadata": {
        "id": "K7aRvAFRYGV2"
      },
      "source": [
        "class Car:\n",
        "  def __init__(self,doors,engine_type):\n",
        "    self._doors=doors\n",
        "    self.engine_type=engine_type"
      ],
      "execution_count": null,
      "outputs": []
    },
    {
      "cell_type": "code",
      "metadata": {
        "id": "r9zLWaJkYlQs"
      },
      "source": [
        "dir(Car)"
      ],
      "execution_count": null,
      "outputs": []
    },
    {
      "cell_type": "code",
      "metadata": {
        "colab": {
          "base_uri": "https://localhost:8080/",
          "height": 185
        },
        "id": "wWOy64QOYJc6",
        "outputId": "b93e6a6b-ade2-4570-d7fe-f336a463de3d"
      },
      "source": [
        "my2ndcar= Car(3,'diesel')\n",
        "my2ndcar.doors"
      ],
      "execution_count": null,
      "outputs": [
        {
          "output_type": "error",
          "ename": "AttributeError",
          "evalue": "ignored",
          "traceback": [
            "\u001b[0;31m---------------------------------------------------------------------------\u001b[0m",
            "\u001b[0;31mAttributeError\u001b[0m                            Traceback (most recent call last)",
            "\u001b[0;32m<ipython-input-5-c0d37aff5a81>\u001b[0m in \u001b[0;36m<module>\u001b[0;34m()\u001b[0m\n\u001b[1;32m      1\u001b[0m \u001b[0mmy2ndcar\u001b[0m\u001b[0;34m=\u001b[0m \u001b[0mCar\u001b[0m\u001b[0;34m(\u001b[0m\u001b[0;36m3\u001b[0m\u001b[0;34m,\u001b[0m\u001b[0;34m'diesel'\u001b[0m\u001b[0;34m)\u001b[0m\u001b[0;34m\u001b[0m\u001b[0;34m\u001b[0m\u001b[0m\n\u001b[0;32m----> 2\u001b[0;31m \u001b[0mmy2ndcar\u001b[0m\u001b[0;34m.\u001b[0m\u001b[0mdoors\u001b[0m\u001b[0;34m\u001b[0m\u001b[0;34m\u001b[0m\u001b[0m\n\u001b[0m",
            "\u001b[0;31mAttributeError\u001b[0m: 'Car' object has no attribute 'doors'"
          ]
        }
      ]
    },
    {
      "cell_type": "code",
      "metadata": {
        "colab": {
          "base_uri": "https://localhost:8080/"
        },
        "id": "p8PXRvbcYJZ9",
        "outputId": "b682bdb3-838f-4883-d9ae-d623a7d56478"
      },
      "source": [
        "my2ndcar._doors"
      ],
      "execution_count": null,
      "outputs": [
        {
          "output_type": "execute_result",
          "data": {
            "text/plain": [
              "3"
            ]
          },
          "metadata": {
            "tags": []
          },
          "execution_count": 6
        }
      ]
    },
    {
      "cell_type": "code",
      "metadata": {
        "colab": {
          "base_uri": "https://localhost:8080/"
        },
        "id": "64hxJz2tYJVz",
        "outputId": "b3ba1ef6-12b4-4f26-a681-d1c3a8e644ad"
      },
      "source": [
        "my2ndcar._doors=5\n",
        "my2ndcar._doors"
      ],
      "execution_count": null,
      "outputs": [
        {
          "output_type": "execute_result",
          "data": {
            "text/plain": [
              "5"
            ]
          },
          "metadata": {
            "tags": []
          },
          "execution_count": 7
        }
      ]
    },
    {
      "cell_type": "markdown",
      "metadata": {
        "id": "kK-_tuGMYurc"
      },
      "source": [
        "# Private Class"
      ]
    },
    {
      "cell_type": "code",
      "metadata": {
        "id": "w0oiuB0pYJOi"
      },
      "source": [
        "class Car:\n",
        "  def __init__(self,doors,engine_type):\n",
        "    self.__doors=doors\n",
        "    self.engine_type=engine_type"
      ],
      "execution_count": null,
      "outputs": []
    },
    {
      "cell_type": "code",
      "metadata": {
        "id": "5XeQBWU1Y7BD"
      },
      "source": [
        "my3rdcar=Car(4,'diesel')"
      ],
      "execution_count": null,
      "outputs": []
    },
    {
      "cell_type": "code",
      "metadata": {
        "id": "l1n-kYS0ZFj_"
      },
      "source": [
        "my3rdcar.doors=5"
      ],
      "execution_count": null,
      "outputs": []
    },
    {
      "cell_type": "code",
      "metadata": {
        "id": "YYdP7VEtZFg5"
      },
      "source": [
        ""
      ],
      "execution_count": null,
      "outputs": []
    },
    {
      "cell_type": "code",
      "metadata": {
        "id": "J5S9Bks2ZFeK"
      },
      "source": [
        ""
      ],
      "execution_count": null,
      "outputs": []
    },
    {
      "cell_type": "code",
      "metadata": {
        "id": "iJ7BzhtLZFYC"
      },
      "source": [
        ""
      ],
      "execution_count": null,
      "outputs": []
    },
    {
      "cell_type": "code",
      "metadata": {
        "id": "WIlG427fZFPl"
      },
      "source": [
        ""
      ],
      "execution_count": null,
      "outputs": []
    }
  ]
}
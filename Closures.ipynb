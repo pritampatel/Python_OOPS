{
 "cells": [
  {
   "cell_type": "code",
   "execution_count": 3,
   "metadata": {},
   "outputs": [
    {
     "name": "stdout",
     "output_type": "stream",
     "text": [
      "<function outer_func.<locals>.inner at 0x00000237CFC780D0>\n",
      "hi\n"
     ]
    }
   ],
   "source": [
    "def outer_func():\n",
    "    message='hi'\n",
    "    def inner():\n",
    "        print(message)\n",
    "    return inner\n",
    "\n",
    "my_func= outer_func()\n",
    "print(my_func)\n",
    "my_func()"
   ]
  },
  {
   "cell_type": "code",
   "execution_count": 5,
   "metadata": {},
   "outputs": [
    {
     "name": "stdout",
     "output_type": "stream",
     "text": [
      "hi\n",
      "hello\n"
     ]
    }
   ],
   "source": [
    "def outer_func(msg):\n",
    "    \n",
    "    def inner():\n",
    "        print(msg)\n",
    "    return inner\n",
    "\n",
    "\n",
    "hi_func=outer_func('hi')\n",
    "hello_func=outer_func('hello')\n",
    "\n",
    "hi_func()\n",
    "hello_func()"
   ]
  },
  {
   "cell_type": "code",
   "execution_count": 7,
   "metadata": {},
   "outputs": [],
   "source": [
    "import logging\n",
    "logging.basicConfig(filename='closure_example.log',level=logging.INFO)"
   ]
  },
  {
   "cell_type": "code",
   "execution_count": 9,
   "metadata": {},
   "outputs": [
    {
     "name": "stdout",
     "output_type": "stream",
     "text": [
      "3\n",
      "9\n",
      "41\n"
     ]
    }
   ],
   "source": [
    "def logger(func):\n",
    "    \n",
    "    def wrapper(*args):\n",
    "        logging.info('Running in {} with arguments{}'.format(func.__name__,args))\n",
    "        print(func(*args))\n",
    "    return wrapper\n",
    "\n",
    "def add(x,y):\n",
    "    return x+y\n",
    "def subtract(x,y):\n",
    "    return x-y\n",
    "\n",
    "add_logger=logger(add)\n",
    "subs_logger=logger(subtract)\n",
    "\n",
    "\n",
    "add_logger(1,2)\n",
    "add_logger(4,5)\n",
    "\n",
    "subs_logger(50,9)"
   ]
  },
  {
   "cell_type": "code",
   "execution_count": null,
   "metadata": {},
   "outputs": [],
   "source": []
  }
 ],
 "metadata": {
  "kernelspec": {
   "display_name": "Python 3",
   "language": "python",
   "name": "python3"
  },
  "language_info": {
   "codemirror_mode": {
    "name": "ipython",
    "version": 3
   },
   "file_extension": ".py",
   "mimetype": "text/x-python",
   "name": "python",
   "nbconvert_exporter": "python",
   "pygments_lexer": "ipython3",
   "version": "3.8.5"
  }
 },
 "nbformat": 4,
 "nbformat_minor": 4
}

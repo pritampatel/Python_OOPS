{
 "cells": [
  {
   "cell_type": "code",
   "execution_count": 1,
   "metadata": {},
   "outputs": [
    {
     "name": "stdout",
     "output_type": "stream",
     "text": [
      "<function square at 0x0000028D758381F0>\n",
      "<function square at 0x0000028D758381F0>\n"
     ]
    }
   ],
   "source": [
    "def square(x):\n",
    "    return x**2  \n",
    "\n",
    "f=square\n",
    "print(square)\n",
    "print(f)"
   ]
  },
  {
   "cell_type": "code",
   "execution_count": 2,
   "metadata": {},
   "outputs": [
    {
     "name": "stdout",
     "output_type": "stream",
     "text": [
      "[1, 4, 16, 36, 64]\n"
     ]
    }
   ],
   "source": [
    "def map1(funct,args):\n",
    "    result=[]\n",
    "    for i in args:\n",
    "        result.append(funct(i))\n",
    "    return result\n",
    "    \n",
    "squares=map1(square,[1,2,4,6,8])\n",
    "\n",
    "print(squares)"
   ]
  },
  {
   "cell_type": "markdown",
   "metadata": {},
   "source": [
    "# Return a Function from Another Function"
   ]
  },
  {
   "cell_type": "code",
   "execution_count": 5,
   "metadata": {},
   "outputs": [
    {
     "name": "stdout",
     "output_type": "stream",
     "text": [
      "hello\n"
     ]
    }
   ],
   "source": [
    "def logger(msg):\n",
    "    \n",
    "    def log_massage():\n",
    "        print(msg)\n",
    "    return log_massage\n",
    "\n",
    "my_f=logger('hello')\n",
    "my_f()"
   ]
  },
  {
   "cell_type": "markdown",
   "metadata": {},
   "source": [
    "## Why it would be useful"
   ]
  },
  {
   "cell_type": "code",
   "execution_count": 9,
   "metadata": {},
   "outputs": [
    {
     "name": "stdout",
     "output_type": "stream",
     "text": [
      "<hi> welcomes First Header\n"
     ]
    }
   ],
   "source": [
    "def html_tag(tag):\n",
    "    def wrap_text(msg):\n",
    "        print(f\"<{tag}> welcomes {msg}\")\n",
    "    return wrap_text\n",
    "\n",
    "print_hi= html_tag('hi')\n",
    "print_hi('First Header')\n"
   ]
  },
  {
   "cell_type": "code",
   "execution_count": 9,
   "metadata": {},
   "outputs": [
    {
     "name": "stdout",
     "output_type": "stream",
     "text": [
      "<hi> welcomes First Header\n"
     ]
    }
   ],
   "source": [
    "def html_tag(tag):\n",
    "    def wrap_text(msg):\n",
    "        print(f\"<{tag}> welcomes {msg}\")\n",
    "    return wrap_text\n",
    "\n",
    "print_hi= html_tag('hi')\n",
    "print_hi('First Header')\n"
   ]
  },
  {
   "cell_type": "code",
   "execution_count": 10,
   "metadata": {},
   "outputs": [
    {
     "name": "stdout",
     "output_type": "stream",
     "text": [
      "<hi> welcomes First Header\n"
     ]
    }
   ],
   "source": [
    "def html_tag(tag):\n",
    "    def wrap_text(msg):\n",
    "        print(f\"<{tag}> welcomes {msg}\")\n",
    "    return wrap_text\n",
    "\n",
    "print_hi= html_tag('hi')\n",
    "print_hi('First Header')\n"
   ]
  },
  {
   "cell_type": "code",
   "execution_count": null,
   "metadata": {},
   "outputs": [],
   "source": []
  }
 ],
 "metadata": {
  "kernelspec": {
   "display_name": "Python 3",
   "language": "python",
   "name": "python3"
  },
  "language_info": {
   "codemirror_mode": {
    "name": "ipython",
    "version": 3
   },
   "file_extension": ".py",
   "mimetype": "text/x-python",
   "name": "python",
   "nbconvert_exporter": "python",
   "pygments_lexer": "ipython3",
   "version": "3.8.5"
  }
 },
 "nbformat": 4,
 "nbformat_minor": 4
}

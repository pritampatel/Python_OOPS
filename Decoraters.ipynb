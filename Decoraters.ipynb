{
 "cells": [
  {
   "cell_type": "markdown",
   "metadata": {},
   "source": [
    "## Decorators"
   ]
  },
  {
   "cell_type": "code",
   "execution_count": 1,
   "metadata": {},
   "outputs": [
    {
     "name": "stdout",
     "output_type": "stream",
     "text": [
      "Nice to meet you\n"
     ]
    }
   ],
   "source": [
    "def decorator_function(original_function):\n",
    "    def wrapper_function():\n",
    "        return original_function\n",
    "    return wrapper_function()\n",
    "\n",
    "def greet():\n",
    "    print('Nice to meet you')\n",
    "    \n",
    "hi_func=decorator_function(greet)\n",
    "hi_func()"
   ]
  },
  {
   "cell_type": "code",
   "execution_count": null,
   "metadata": {},
   "outputs": [],
   "source": [
    "def decorator_function(original_function):\n",
    "    def wrapper_function():\n",
    "        return original_function\n",
    "    return wrapper_function\n",
    "\n",
    "def greet():\n",
    "    print('Nice to meet you')\n",
    "    \n",
    "hi_func=decorator_function(greet)\n",
    "hi_func()"
   ]
  },
  {
   "cell_type": "code",
   "execution_count": 9,
   "metadata": {},
   "outputs": [
    {
     "name": "stdout",
     "output_type": "stream",
     "text": [
      "This wrapper function executed beforegreet\n",
      "Nice to meet you\n"
     ]
    }
   ],
   "source": [
    "def decorator_function(original_function):\n",
    "    def wrapper_function():\n",
    "        print(f'This wrapper function executed before{original_function.__name__}')\n",
    "        return original_function()\n",
    "    return wrapper_function\n",
    "\n",
    "@decorator_function\n",
    "def greet():\n",
    "    print('Nice to meet you')\n",
    "    \n",
    "greet()"
   ]
  },
  {
   "cell_type": "code",
   "execution_count": 17,
   "metadata": {},
   "outputs": [
    {
     "name": "stdout",
     "output_type": "stream",
     "text": [
      "This wrapper function executed beforegreet\n",
      "Nice to meet you\n",
      "This wrapper function executed beforetake\n",
      "What would you like to have\n"
     ]
    }
   ],
   "source": [
    "def decorator_function(original_function):\n",
    "    def wrapper_function(*args,**kwargs):\n",
    "        print(f'This wrapper function executed before{original_function.__name__}')\n",
    "        return original_function(*args,**kwargs)\n",
    "    return wrapper_function\n",
    "\n",
    "@decorator_function\n",
    "def greet():\n",
    "    print('Nice to meet you')\n",
    "\n",
    "@decorator_function\n",
    "def take():\n",
    "    print('What would you like to have')\n",
    "    \n",
    "greet()\n",
    "\n",
    "take()"
   ]
  },
  {
   "cell_type": "code",
   "execution_count": 21,
   "metadata": {},
   "outputs": [
    {
     "name": "stdout",
     "output_type": "stream",
     "text": [
      "The call constructor executes before the \"greet\" function\n",
      "Nice to meet you\n",
      "The call constructor executes before the \"take\" function\n",
      "What would you like to have\n"
     ]
    }
   ],
   "source": [
    "class decorator_class(object):\n",
    "    \n",
    "    def __init__(self,original_function):\n",
    "        self.original_function=original_function\n",
    "    \n",
    "    def __call__(self,*args,**kwargs):\n",
    "        print(f'The call constructor executes before the \"{self.original_function.__name__}\" function')\n",
    "        return self.original_function(*args,**kwargs)\n",
    "    \n",
    "    \n",
    "@decorator_class\n",
    "def greet():\n",
    "    print('Nice to meet you')\n",
    "\n",
    "@decorator_class\n",
    "def take():\n",
    "    print('What would you like to have')\n",
    "    \n",
    "greet()\n",
    "\n",
    "take()"
   ]
  },
  {
   "cell_type": "code",
   "execution_count": 27,
   "metadata": {},
   "outputs": [
    {
     "name": "stdout",
     "output_type": "stream",
     "text": [
      "Hello! How are you\n",
      "The time taken is 1.0110204219818115\n",
      "The value of result is  <class 'NoneType'>\n",
      "The display_info with Pritam and 26 params \n",
      "The time taken is 4.013383388519287\n",
      "The value of result is  <class 'NoneType'>\n"
     ]
    }
   ],
   "source": [
    "import time\n",
    "def my_timer(original_functions):\n",
    "    import time\n",
    "    def wrapper_func(*args,**kwargs):\n",
    "        now=time.time()\n",
    "        result=original_functions(*args,**kwargs)\n",
    "        final=time.time()-now\n",
    "        print(f'The time taken is {final}')\n",
    "        print('The value of result is ',type(result))\n",
    "        return result\n",
    "    return  wrapper_func\n",
    "        \n",
    "@my_timer       \n",
    "def greet():\n",
    "    time.sleep(1)\n",
    "    print('Hello! How are you')\n",
    "@my_timer\n",
    "def display_info(name,age):\n",
    "    time.sleep(4)\n",
    "    print(f\"The display_info with {name} and {age} params \")\n",
    "    \n",
    "greet()\n",
    "display_info('Pritam','26')"
   ]
  },
  {
   "cell_type": "code",
   "execution_count": null,
   "metadata": {},
   "outputs": [],
   "source": []
  }
 ],
 "metadata": {
  "kernelspec": {
   "display_name": "Python 3",
   "language": "python",
   "name": "python3"
  },
  "language_info": {
   "codemirror_mode": {
    "name": "ipython",
    "version": 3
   },
   "file_extension": ".py",
   "mimetype": "text/x-python",
   "name": "python",
   "nbconvert_exporter": "python",
   "pygments_lexer": "ipython3",
   "version": "3.8.5"
  }
 },
 "nbformat": 4,
 "nbformat_minor": 2
}

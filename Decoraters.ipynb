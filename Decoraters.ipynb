{
 "cells": [
  {
   "cell_type": "markdown",
   "metadata": {},
   "source": [
    "## Decorators"
   ]
  },
  {
   "cell_type": "code",
   "execution_count": 1,
   "metadata": {},
   "outputs": [
    {
     "name": "stdout",
     "output_type": "stream",
     "text": [
      "Nice to meet you\n"
     ]
    }
   ],
   "source": [
    "def decorator_function(original_function):\n",
    "    def wrapper_function():\n",
    "        return original_function\n",
    "    return wrapper_function()\n",
    "\n",
    "def greet():\n",
    "    print('Nice to meet you')\n",
    "    \n",
    "hi_func=decorator_function(greet)\n",
    "hi_func()"
   ]
  },
  {
   "cell_type": "code",
   "execution_count": null,
   "metadata": {},
   "outputs": [],
   "source": [
    "def decorator_function(original_function):\n",
    "    def wrapper_function():\n",
    "        return original_function\n",
    "    return wrapper_function\n",
    "\n",
    "def greet():\n",
    "    print('Nice to meet you')\n",
    "    \n",
    "hi_func=decorator_function(greet)\n",
    "hi_func()"
   ]
  },
  {
   "cell_type": "code",
   "execution_count": 9,
   "metadata": {},
   "outputs": [
    {
     "name": "stdout",
     "output_type": "stream",
     "text": [
      "This wrapper function executed beforegreet\n",
      "Nice to meet you\n"
     ]
    }
   ],
   "source": [
    "def decorator_function(original_function):\n",
    "    def wrapper_function():\n",
    "        print(f'This wrapper function executed before{original_function.__name__}')\n",
    "        return original_function()\n",
    "    return wrapper_function\n",
    "\n",
    "@decorator_function\n",
    "def greet():\n",
    "    print('Nice to meet you')\n",
    "    \n",
    "greet()"
   ]
  },
  {
   "cell_type": "code",
   "execution_count": 17,
   "metadata": {},
   "outputs": [
    {
     "name": "stdout",
     "output_type": "stream",
     "text": [
      "This wrapper function executed beforegreet\n",
      "Nice to meet you\n",
      "This wrapper function executed beforetake\n",
      "What would you like to have\n"
     ]
    }
   ],
   "source": [
    "def decorator_function(original_function):\n",
    "    def wrapper_function(*args,**kwargs):\n",
    "        print(f'This wrapper function executed before{original_function.__name__}')\n",
    "        return original_function(*args,**kwargs)\n",
    "    return wrapper_function\n",
    "\n",
    "@decorator_function\n",
    "def greet():\n",
    "    print('Nice to meet you')\n",
    "\n",
    "@decorator_function\n",
    "def take():\n",
    "    print('What would you like to have')\n",
    "    \n",
    "greet()\n",
    "\n",
    "take()"
   ]
  },
  {
   "cell_type": "code",
   "execution_count": 21,
   "metadata": {},
   "outputs": [
    {
     "name": "stdout",
     "output_type": "stream",
     "text": [
      "The call constructor executes before the \"greet\" function\n",
      "Nice to meet you\n",
      "The call constructor executes before the \"take\" function\n",
      "What would you like to have\n"
     ]
    }
   ],
   "source": [
    "class decorator_class(object):\n",
    "    \n",
    "    def __init__(self,original_function):\n",
    "        self.original_function=original_function\n",
    "    \n",
    "    def __call__(self,*args,**kwargs):\n",
    "        print(f'The call constructor executes before the \"{self.original_function.__name__}\" function')\n",
    "        return self.original_function(*args,**kwargs)\n",
    "    \n",
    "    \n",
    "@decorator_class\n",
    "def greet():\n",
    "    print('Nice to meet you')\n",
    "\n",
    "@decorator_class\n",
    "def take():\n",
    "    print('What would you like to have')\n",
    "    \n",
    "greet()\n",
    "\n",
    "take()"
   ]
  },
  {
   "cell_type": "code",
   "execution_count": 7,
   "metadata": {},
   "outputs": [
    {
     "name": "stdout",
     "output_type": "stream",
     "text": [
      "Hello! How are you\n",
      "The time taken is 1.0051915645599365\n",
      "The display_info with Pritam and 26 params \n",
      "The time taken is 1.0014688968658447\n"
     ]
    }
   ],
   "source": [
    "import time\n",
    "def my_timer(original_functions):\n",
    "    import time\n",
    "    def wrapper_func(*args,**kwargs):\n",
    "        now=time.time()\n",
    "        result=original_functions(*args,**kwargs)\n",
    "        final=time.time()-now\n",
    "        print(f'The time taken is {final}')\n",
    "   \n",
    "        return result\n",
    "    return  wrapper_func\n",
    "        \n",
    "@my_timer       \n",
    "def greet():\n",
    "    time.sleep(1)\n",
    "    print('Hello! How are you')\n",
    "@my_timer\n",
    "def display_info(name,age):\n",
    "    time.sleep(1)\n",
    "    print(f\"The display_info with {name} and {age} params \")\n",
    "    \n",
    "greet()\n",
    "display_info('Pritam','26')"
   ]
  },
  {
   "cell_type": "code",
   "execution_count": 10,
   "metadata": {},
   "outputs": [
    {
     "name": "stdout",
     "output_type": "stream",
     "text": [
      "The display_info with prits and 24 params \n"
     ]
    }
   ],
   "source": [
    "import time\n",
    "def my_logger(original_funcs):\n",
    "    import logging\n",
    "    logging.basicConfig(filename='{}.log'.format(original_funcs.__name__),level=logging.INFO)\n",
    "    def wrapper(*args,**kwargs):\n",
    "        logging.info('Ran with args: {}, and kwargs{}'.format(args,kwargs))\n",
    "        return original_funcs(*args,**kwargs)\n",
    "    return wrapper\n",
    "\n",
    "@my_logger\n",
    "def display_info(name,age):\n",
    "    time.sleep(1)\n",
    "    print(f\"The display_info with {name} and {age} params \")\n",
    "    \n",
    "\n",
    "display_info('prits','24')"
   ]
  },
  {
   "cell_type": "markdown",
   "metadata": {},
   "source": [
    "## Combining two decorators"
   ]
  },
  {
   "cell_type": "code",
   "execution_count": 17,
   "metadata": {},
   "outputs": [
    {
     "ename": "TypeError",
     "evalue": "update_wrapper() got multiple values for argument 'wrapped'",
     "output_type": "error",
     "traceback": [
      "\u001b[1;31m---------------------------------------------------------------------------\u001b[0m",
      "\u001b[1;31mTypeError\u001b[0m                                 Traceback (most recent call last)",
      "\u001b[1;32m<ipython-input-17-9c645f08f989>\u001b[0m in \u001b[0;36m<module>\u001b[1;34m\u001b[0m\n\u001b[0;32m      9\u001b[0m     \u001b[0mprint\u001b[0m\u001b[1;33m(\u001b[0m\u001b[1;34mf\"The display_info with {name} and {age} params \"\u001b[0m\u001b[1;33m)\u001b[0m\u001b[1;33m\u001b[0m\u001b[1;33m\u001b[0m\u001b[0m\n\u001b[0;32m     10\u001b[0m \u001b[1;33m\u001b[0m\u001b[0m\n\u001b[1;32m---> 11\u001b[1;33m \u001b[0mdisplay_info\u001b[0m\u001b[1;33m(\u001b[0m\u001b[1;34m'P Patel'\u001b[0m\u001b[1;33m,\u001b[0m\u001b[1;34m'26.5'\u001b[0m\u001b[1;33m)\u001b[0m\u001b[1;33m\u001b[0m\u001b[1;33m\u001b[0m\u001b[0m\n\u001b[0m",
      "\u001b[1;31mTypeError\u001b[0m: update_wrapper() got multiple values for argument 'wrapped'"
     ]
    }
   ],
   "source": [
    "from functools import wraps\n",
    "\n",
    "\n",
    "\n",
    "@my_timer\n",
    "@my_logger\n",
    "def display_info(name,age):\n",
    "    time.sleep(1)\n",
    "    print(f\"The display_info with {name} and {age} params \")\n",
    "    \n",
    "display_info('P Patel','26.5')"
   ]
  },
  {
   "cell_type": "code",
   "execution_count": 18,
   "metadata": {},
   "outputs": [],
   "source": [
    "## That will not work and creates a different log names wrapper as my_timer returns wrapper method which is being  fed to the logger method"
   ]
  },
  {
   "cell_type": "code",
   "execution_count": 21,
   "metadata": {},
   "outputs": [],
   "source": [
    "import time\n",
    "def my_timer(original_funcs):\n",
    "    import time\n",
    "    \n",
    "    @wraps(original_funcs)\n",
    "    def wrapper_func(*args,**kwargs):\n",
    "        now=time.time()\n",
    "        result=original_funcs(*args,**kwargs)\n",
    "        final=time.time()-now\n",
    "        print(f'The time taken is {final}')\n",
    "   \n",
    "        return result\n",
    "    return  wrapper_func\n",
    "     \n",
    "    \n",
    "def my_logger(original_funcs):\n",
    "    import logging\n",
    "    logging.basicConfig(filename='{}.log'.format(original_funcs.__name__),level=logging.INFO)\n",
    "    \n",
    "    @wraps(original_funcs)\n",
    "    def wrapper(*args,**kwargs):\n",
    "        logging.info('Ran with args: {}, and kwargs{}'.format(args,kwargs))\n",
    "        return original_funcs(*args,**kwargs)\n",
    "    return wrapper\n"
   ]
  },
  {
   "cell_type": "code",
   "execution_count": 22,
   "metadata": {},
   "outputs": [
    {
     "name": "stdout",
     "output_type": "stream",
     "text": [
      "display info ran with arguments(Pritam Patel,  26 2months)\n",
      "The time taken is 1.0084702968597412\n"
     ]
    }
   ],
   "source": [
    "@my_logger\n",
    "@my_timer\n",
    "def display_info(name,age):\n",
    "    time.sleep(1)\n",
    "    print('display info ran with arguments({}, {})'.format(name, age))\n",
    "\n",
    "display_info('Pritam Patel',\" 26 2months\")"
   ]
  },
  {
   "cell_type": "code",
   "execution_count": null,
   "metadata": {},
   "outputs": [],
   "source": []
  },
  {
   "cell_type": "code",
   "execution_count": null,
   "metadata": {},
   "outputs": [],
   "source": []
  },
  {
   "cell_type": "code",
   "execution_count": null,
   "metadata": {},
   "outputs": [],
   "source": []
  },
  {
   "cell_type": "code",
   "execution_count": null,
   "metadata": {},
   "outputs": [],
   "source": []
  }
 ],
 "metadata": {
  "kernelspec": {
   "display_name": "Python 3",
   "language": "python",
   "name": "python3"
  },
  "language_info": {
   "codemirror_mode": {
    "name": "ipython",
    "version": 3
   },
   "file_extension": ".py",
   "mimetype": "text/x-python",
   "name": "python",
   "nbconvert_exporter": "python",
   "pygments_lexer": "ipython3",
   "version": "3.8.5"
  }
 },
 "nbformat": 4,
 "nbformat_minor": 2
}
